{
 "cells": [
  {
   "cell_type": "code",
   "execution_count": 3,
   "id": "ae9981a5",
   "metadata": {},
   "outputs": [],
   "source": [
    "import pandas as pd\n",
    "import numpy as np\n",
    "\n",
    "\n",
    "# Load the datasets\n",
    "alsfrs_data = pd.read_csv('/Users/opethompson/Desktop/ALS PROCESSED/Diagnostics/ALSFRS-R.csv')\n",
    "als_diagnosishx_data = pd.read_csv('/Users/opethompson/Desktop/ALS PROCESSED/Diagnostics/ALS Diagnosis (ALS Natural History).csv')\n",
    "als_hx_data = pd.read_csv('/Users/opethompson/Desktop/ALS PROCESSED/Diagnostics/ALS History (ALS Natural History).csv')\n",
    "demographics_data = pd.read_csv('/Users/opethompson/Desktop/ALS PROCESSED/Diagnostics/Demographics.csv')\n",
    "diagnosis_data = pd.read_csv('/Users/opethompson/Desktop/ALS PROCESSED/Diagnostics/Diagnosis.csv')\n",
    "als_gene_mutations_data = pd.read_csv('/Users/opethompson/Desktop/ALS PROCESSED/Diagnostics/ALS Gene Mutations.csv')\n",
    "roads_data = pd.read_csv('/Users/opethompson/Desktop/ALS PROCESSED/Diagnostics/Rasch Overall ALS Disability Scale (ROADS).csv')\n",
    "neurological_examination_data = pd.read_csv('/Users/opethompson/Desktop/ALS PROCESSED/Diagnostics/Neurological Examination.csv')\n",
    "family_hx_data = pd.read_csv('/Users/opethompson/Desktop/ALS PROCESSED/Diagnostics/Family History Log.csv')"
   ]
  },
  {
   "cell_type": "code",
   "execution_count": 4,
   "id": "51264e0e",
   "metadata": {},
   "outputs": [],
   "source": [
    "# Merging datasets on 'internal_subject_id'\n",
    "merged_data = alsfrs_data.merge(als_diagnosishx_data, on='internal_subject_id', how='left', suffixes=('', '_alsdxhx'))\n",
    "merged_data = merged_data.merge(als_hx_data, on='internal_subject_id', how='left', suffixes=('', '_alshx'))\n",
    "merged_data = merged_data.merge(demographics_data, on='internal_subject_id', how='left', suffixes=('', '_demo'))\n",
    "merged_data = merged_data.merge(diagnosis_data, on='internal_subject_id', how='left', suffixes=('', '_diag'))\n",
    "merged_data = merged_data.merge(als_gene_mutations_data, on='internal_subject_id', how='left', suffixes=('', '_alsgene'))\n",
    "merged_data = merged_data.merge(roads_data, on='internal_subject_id', how='left', suffixes=('', '_roads'))\n",
    "merged_data = merged_data.merge(neurological_examination_data, on='internal_subject_id', how='left', suffixes=('', '_neuro'))\n",
    "merged_data = merged_data.merge(family_hx_data, on='internal_subject_id', how='left', suffixes=('', '_famhx'))\n"
   ]
  },
  {
   "cell_type": "code",
   "execution_count": 5,
   "id": "329be8ff",
   "metadata": {},
   "outputs": [],
   "source": [
    "\n",
    "\n",
    "# Save the cleaned data\n",
    "merged_data.to_csv('ALSmerge_data.csv', index=False)"
   ]
  },
  {
   "cell_type": "code",
   "execution_count": null,
   "id": "406073bb",
   "metadata": {},
   "outputs": [],
   "source": []
  }
 ],
 "metadata": {
  "kernelspec": {
   "display_name": "Python 3 (ipykernel)",
   "language": "python",
   "name": "python3"
  },
  "language_info": {
   "codemirror_mode": {
    "name": "ipython",
    "version": 3
   },
   "file_extension": ".py",
   "mimetype": "text/x-python",
   "name": "python",
   "nbconvert_exporter": "python",
   "pygments_lexer": "ipython3",
   "version": "3.9.13"
  }
 },
 "nbformat": 4,
 "nbformat_minor": 5
}
