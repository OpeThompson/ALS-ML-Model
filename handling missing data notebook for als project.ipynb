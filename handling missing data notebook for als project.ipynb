{
 "cells": [
  {
   "cell_type": "code",
   "execution_count": 1,
   "id": "a9884ba7",
   "metadata": {},
   "outputs": [
    {
     "name": "stderr",
     "output_type": "stream",
     "text": [
      "/var/folders/ft/c6nsm1154sdffr6pflvfcdhm0000gn/T/ipykernel_12253/1072870596.py:4: DtypeWarning: Columns (106) have mixed types. Specify dtype option on import or set low_memory=False.\n",
      "  merged_data = pd.read_csv('/Users/opethompson/Desktop/ALS PROCESSED/Diagnostics/ALSclean_data.csv')\n"
     ]
    }
   ],
   "source": [
    "import pandas as pd\n",
    "\n",
    "# Load the merged datasets\n",
    "merged_data = pd.read_csv('/Users/opethompson/Desktop/ALS PROCESSED/Diagnostics/ALSclean_data.csv')\n"
   ]
  },
  {
   "cell_type": "code",
   "execution_count": 2,
   "id": "f336543a",
   "metadata": {},
   "outputs": [],
   "source": [
    "# List of columns to drop\n",
    "columns_to_drop = ['Unnamed: 0', 'Form Name']\n",
    "\n",
    "# Drop the columns\n",
    "merged_data = merged_data.drop(columns=columns_to_drop)\n"
   ]
  },
  {
   "cell_type": "code",
   "execution_count": 3,
   "id": "758f4edf",
   "metadata": {},
   "outputs": [],
   "source": [
    "merged_data.to_csv('preprocessed_data.csv', index=False)\n"
   ]
  },
  {
   "cell_type": "code",
   "execution_count": null,
   "id": "f3397916",
   "metadata": {},
   "outputs": [],
   "source": []
  }
 ],
 "metadata": {
  "kernelspec": {
   "display_name": "Python 3 (ipykernel)",
   "language": "python",
   "name": "python3"
  },
  "language_info": {
   "codemirror_mode": {
    "name": "ipython",
    "version": 3
   },
   "file_extension": ".py",
   "mimetype": "text/x-python",
   "name": "python",
   "nbconvert_exporter": "python",
   "pygments_lexer": "ipython3",
   "version": "3.9.13"
  }
 },
 "nbformat": 4,
 "nbformat_minor": 5
}
