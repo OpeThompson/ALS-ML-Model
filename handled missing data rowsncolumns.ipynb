{
 "cells": [
  {
   "cell_type": "code",
   "execution_count": 2,
   "id": "4c8d805c",
   "metadata": {},
   "outputs": [
    {
     "name": "stderr",
     "output_type": "stream",
     "text": [
      "/var/folders/ft/c6nsm1154sdffr6pflvfcdhm0000gn/T/ipykernel_12965/2523918654.py:4: DtypeWarning: Columns (106) have mixed types. Specify dtype option on import or set low_memory=False.\n",
      "  als_data = pd.read_csv('/Users/opethompson/Desktop/ALS PROCESSED/Diagnostics/ALSclean_data.csv')\n"
     ]
    }
   ],
   "source": [
    "import pandas as pd\n",
    "\n",
    "# Load the merged datasets\n",
    "als_data = pd.read_csv('/Users/opethompson/Desktop/ALS PROCESSED/Diagnostics/ALSclean_data.csv')"
   ]
  },
  {
   "cell_type": "code",
   "execution_count": 3,
   "id": "f1df99aa",
   "metadata": {},
   "outputs": [
    {
     "name": "stdout",
     "output_type": "stream",
     "text": [
      "   Unnamed: 0  internal_subject_id Form Name  alsfdn  alsfrs1  alsfrs2  \\\n",
      "0           1                  376  ALSFRS-R     1.0      NaN      NaN   \n",
      "1           1                  376  ALSFRS-R     1.0      NaN      NaN   \n",
      "2           2                  379  ALSFRS-R     1.0      2.0      4.0   \n",
      "3           2                  379  ALSFRS-R     1.0      2.0      4.0   \n",
      "4           2                  379  ALSFRS-R     1.0      2.0      4.0   \n",
      "\n",
      "   alsfrs3  alsfrs4  alsfrs5  alsfrs5a  ...  fhgnc9  fhgnfus  fhgnprg  \\\n",
      "0      NaN      NaN      NaN       NaN  ...     0.0      0.0      0.0   \n",
      "1      NaN      NaN      NaN       NaN  ...     0.0      0.0      0.0   \n",
      "2      3.0      4.0      2.0       4.0  ...     0.0      0.0      0.0   \n",
      "3      3.0      4.0      2.0       4.0  ...     0.0      0.0      0.0   \n",
      "4      3.0      4.0      2.0       4.0  ...     0.0      0.0      0.0   \n",
      "\n",
      "   fhgnsetx  fhgnsod1  fhgntau  fhgntdp  fhgnvapb  fhgnvcp  fhgnot  \n",
      "0       0.0       0.0      0.0      0.0       0.0      0.0     0.0  \n",
      "1       0.0       0.0      0.0      0.0       0.0      0.0     0.0  \n",
      "2       0.0       0.0      0.0      0.0       0.0      0.0     0.0  \n",
      "3       0.0       0.0      0.0      0.0       0.0      0.0     0.0  \n",
      "4       0.0       0.0      0.0      0.0       0.0      0.0     0.0  \n",
      "\n",
      "[5 rows x 194 columns]\n"
     ]
    }
   ],
   "source": [
    "# Display the first few rows to understand its structure\n",
    "print(als_data.head())"
   ]
  },
  {
   "cell_type": "code",
   "execution_count": 4,
   "id": "b8e68b15",
   "metadata": {},
   "outputs": [],
   "source": [
    "# Define a threshold for dropping columns (50% missing values)\n",
    "threshold = 0.5\n",
    "columns_to_drop = als_data.columns[als_data.isnull().mean() > threshold]\n",
    "als_data.drop(columns=columns_to_drop, axis=1, inplace=True)"
   ]
  },
  {
   "cell_type": "code",
   "execution_count": 5,
   "id": "17dcd019",
   "metadata": {},
   "outputs": [],
   "source": [
    "# handling missing data: For numerical columns, we use the median; for categorical columns, we use the mode\n",
    "for col in als_data.columns:\n",
    "    if als_data[col].dtype == 'object':  # Categorical data\n",
    "        als_data[col].fillna(als_data[col].mode()[0], inplace=True)\n",
    "    else:  # Numerical data\n",
    "        als_data[col].fillna(als_data[col].median(), inplace=True)"
   ]
  },
  {
   "cell_type": "code",
   "execution_count": 7,
   "id": "a83f8fe7",
   "metadata": {},
   "outputs": [],
   "source": [
    "#Drop Rows with Missing Values\n",
    "als_data.dropna(inplace=True)\n"
   ]
  },
  {
   "cell_type": "code",
   "execution_count": 8,
   "id": "222127a9",
   "metadata": {},
   "outputs": [],
   "source": [
    "# Save the cleaned data to a new file\n",
    "als_data.to_csv('preprocessedALSclean_data.csv', index=False)\n"
   ]
  },
  {
   "cell_type": "code",
   "execution_count": null,
   "id": "ae17eae4",
   "metadata": {},
   "outputs": [],
   "source": []
  }
 ],
 "metadata": {
  "kernelspec": {
   "display_name": "Python 3 (ipykernel)",
   "language": "python",
   "name": "python3"
  },
  "language_info": {
   "codemirror_mode": {
    "name": "ipython",
    "version": 3
   },
   "file_extension": ".py",
   "mimetype": "text/x-python",
   "name": "python",
   "nbconvert_exporter": "python",
   "pygments_lexer": "ipython3",
   "version": "3.9.13"
  }
 },
 "nbformat": 4,
 "nbformat_minor": 5
}
